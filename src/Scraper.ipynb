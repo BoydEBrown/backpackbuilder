{
 "cells": [
  {
   "cell_type": "code",
   "execution_count": 3,
   "metadata": {
    "collapsed": true
   },
   "outputs": [],
   "source": [
    "from selenium import webdriver\n",
    "from lxml import html\n",
    "from time import sleep\n",
    "from pprint import pprint\n",
    "from xvfbwrapper import Xvfb"
   ]
  },
  {
   "cell_type": "code",
   "execution_count": 17,
   "metadata": {
    "collapsed": false
   },
   "outputs": [],
   "source": [
    "url = 'https://www.rei.com/c/hiking-jackets?r=c&pagesize=90&ir=category%3Ahiking-jackets'\n",
    "path_to_chromedriver = '/Users/boydbrown/Desktop/chromedriver' # change path as needed\n",
    "browser = webdriver.Chrome(executable_path = path_to_chromedriver)\n",
    "browser.get(url)\n",
    "sleep(5)\n",
    "\n",
    "#item_count = browser.find_element_by_class_name('text-lead').text_content()\n",
    "parser = html.fromstring(browser.page_source,browser.current_url)\n",
    "item_count = parser.xpath('//div[@class=\"text-lead\"]')\n",
    "product_title = browser.find_elements_by_class_name('product-title')"
   ]
  },
  {
   "cell_type": "code",
   "execution_count": 29,
   "metadata": {
    "collapsed": false
   },
   "outputs": [],
   "source": [
    "for i in item_count[0].text_content().strip().strip(\"(\").split():\n",
    "    if i.isdigit():\n",
    "        item_cnt = int(i)"
   ]
  },
  {
   "cell_type": "code",
   "execution_count": 30,
   "metadata": {
    "collapsed": false
   },
   "outputs": [
    {
     "data": {
      "text/plain": [
       "519"
      ]
     },
     "execution_count": 30,
     "metadata": {},
     "output_type": "execute_result"
    }
   ],
   "source": [
    "item_cnt"
   ]
  },
  {
   "cell_type": "code",
   "execution_count": 13,
   "metadata": {
    "collapsed": false
   },
   "outputs": [
    {
     "name": "stdout",
     "output_type": "stream",
     "text": [
      "https://www.rei.com/product/871413/patagonia-down-sweater-mens\n",
      "https://www.rei.com/product/855177/patagonia-nano-puff-jacket-mens\n",
      "https://www.rei.com/product/859278/marmot-precip-rain-jacket-mens\n",
      "https://www.rei.com/product/853372/patagonia-lightweight-synchilla-snap-t-fleece-jacket-womens\n",
      "https://www.rei.com/product/895666/arcteryx-tenquille-hoodie-womens\n",
      "https://www.rei.com/product/865132/the-north-face-venture-rain-jacket-womens\n",
      "https://www.rei.com/product/855418/arcteryx-beta-ar-jacket-mens\n",
      "https://www.rei.com/product/863106/the-north-face-venture-rain-jacket-mens\n",
      "https://www.rei.com/product/878092/rei-co-op-down-jacket-mens\n",
      "https://www.rei.com/product/883279/the-north-face-thermoball-jacket-womens\n",
      "https://www.rei.com/product/883343/rei-stratocloud-jacket-womens\n",
      "https://www.rei.com/product/870482/patagonia-down-sweater-womens\n",
      "https://www.rei.com/product/859978/marmot-precip-rain-jacket-womens\n",
      "https://www.rei.com/product/853405/patagonia-nano-puff-jacket-womens\n",
      "https://www.rei.com/product/895791/marmot-essential-jacket-womens\n",
      "https://www.rei.com/product/894338/patagonia-torrentshell-jacket-womens\n",
      "https://www.rei.com/product/878094/rei-co-op-down-jacket-womens\n",
      "https://www.rei.com/product/857929/the-north-face-thermoball-insulated-jacket-boys\n",
      "https://www.rei.com/product/102818/arcteryx-alpha-sv-jacket-mens\n",
      "https://www.rei.com/product/870487/patagonia-nano-air-jacket-womens\n",
      "https://www.rei.com/product/894313/patagonia-torrentshell-jacket-mens\n",
      "https://www.rei.com/product/883339/rei-stratocloud-jacket-mens\n",
      "https://www.rei.com/product/887388/arcteryx-beta-ar-jacket-womens\n",
      "https://www.rei.com/product/865004/arcteryx-epsilon-lt-jacket-mens\n",
      "https://www.rei.com/product/864999/arcteryx-beta-lt-hybrid-jacket-mens\n",
      "https://www.rei.com/product/894315/patagonia-all-free-soft-shell-jacket-mens\n",
      "https://www.rei.com/product/770813/patagonia-synchilla-snap-t-fleece-top-mens\n",
      "https://www.rei.com/product/861441/mammut-guye-jacket-mens\n",
      "https://www.rei.com/product/879799/patagonia-levitation-soft-shell-hoodie-mens\n",
      "https://www.rei.com/product/100686/mammut-wenaha-rain-jacket-mens\n"
     ]
    }
   ],
   "source": [
    "for p in product_title:\n",
    "    print p.find_element_by_css_selector('a').get_attribute('href')"
   ]
  },
  {
   "cell_type": "code",
   "execution_count": null,
   "metadata": {
    "collapsed": true
   },
   "outputs": [],
   "source": [
    "prod_links[1].text_content()"
   ]
  }
 ],
 "metadata": {
  "anaconda-cloud": {},
  "kernelspec": {
   "display_name": "Python [Root]",
   "language": "python",
   "name": "Python [Root]"
  },
  "language_info": {
   "codemirror_mode": {
    "name": "ipython",
    "version": 2
   },
   "file_extension": ".py",
   "mimetype": "text/x-python",
   "name": "python",
   "nbconvert_exporter": "python",
   "pygments_lexer": "ipython2",
   "version": "2.7.12"
  }
 },
 "nbformat": 4,
 "nbformat_minor": 0
}
